{
 "cells": [
  {
   "cell_type": "markdown",
   "metadata": {},
   "source": [
    "# --- Day 7: Bridge Repair ---\n",
    "\n",
    "The Historians take you to a familiar rope bridge over a river in the middle of a jungle. The Chief isn't on this side of the bridge, though; maybe he's on the other side?\n",
    "\n",
    "When you go to cross the bridge, you notice a group of engineers trying to repair it. (Apparently, it breaks pretty frequently.) You won't be able to cross until it's fixed.\n",
    "\n",
    "You ask how long it'll take; the engineers tell you that it only needs final calibrations, but some young elephants were playing nearby and stole all the operators from their calibration equations! They could finish the calibrations if only someone could determine which test values could possibly be produced by placing any combination of operators into their calibration equations (your puzzle input).\n",
    "\n",
    "For example:\n",
    "\n",
    "190: 10 19\n",
    "\n",
    "3267: 81 40 27\n",
    "\n",
    "83: 17 5\n",
    "\n",
    "156: 15 6\n",
    "\n",
    "7290: 6 8 6 15\n",
    "\n",
    "161011: 16 10 13\n",
    "\n",
    "192: 17 8 14\n",
    "\n",
    "21037: 9 7 18 13\n",
    "\n",
    "292: 11 6 16 20\n",
    "\n",
    "Each line represents a single equation. The test value appears before the colon on each line; it is your job to determine whether the remaining numbers can be combined with operators to produce the test value.\n",
    "\n",
    "Operators are always evaluated left-to-right, not according to precedence rules. Furthermore, numbers in the equations cannot be rearranged. Glancing into the jungle, you can see elephants holding two different types of operators: add (+) and multiply (*).\n",
    "\n",
    "Only three of the above equations can be made true by inserting operators:\n",
    "- 190: 10 19 has only one position that accepts an operator: between 10 and 19. Choosing + would give 29, but choosing * would give the test value (10 * 19 = 190).\n",
    "- 3267: 81 40 27 has two positions for operators. Of the four possible configurations of the operators, two cause the right side to match the test value: 81 + 40 * 27 and 81 * 40 + 27 both equal 3267 (when evaluated left-to-right)!\n",
    "- 292: 11 6 16 20 can be solved in exactly one way: 11 + 6 * 16 + 20.\n",
    "\n",
    "The engineers just need the total calibration result, which is the sum of the test values from just the equations that could possibly be true. In the above example, the sum of the test values for the three equations listed above is 3749.\n",
    "\n",
    "Determine which equations could possibly be true. What is their total calibration result?\n"
   ]
  },
  {
   "cell_type": "code",
   "execution_count": 2,
   "metadata": {},
   "outputs": [
    {
     "name": "stdout",
     "output_type": "stream",
     "text": [
      "6231007345478 333027885676693\n"
     ]
    }
   ],
   "source": [
    "from itertools import product\n",
    "\n",
    "\n",
    "class AdventDay7:\n",
    "    def __init__(self):\n",
    "        self.calibrations = []\n",
    "        self.invalid_in_part1 = []\n",
    "        with open(\"puzzleInput.txt\") as f:\n",
    "            for line in f.readlines():\n",
    "                temp = line.split(\": \")\n",
    "                temp[0] = int(temp[0])\n",
    "                temp[1] = [int(x) for x in temp[1].split(\" \")]\n",
    "                self.calibrations.append(temp)\n",
    "        self.part1 = 0\n",
    "        self.part2 = 0\n",
    "\n",
    "    def place_operators(self, part: str):\n",
    "        ops = [0, 1] if part == \"part1\" else [0, 1, 2]\n",
    "        cals = self.calibrations if part == \"part1\" else self.invalid_in_part1\n",
    "        for cal in cals:\n",
    "            found = False\n",
    "            for choice in product(ops, repeat=len(cal[1]) - 1):\n",
    "                if cal[0] == self.use_choice(cal[1], choice, cal[0]):\n",
    "                    self.part1 += cal[0] if part == \"part1\" else 0\n",
    "                    self.part2 += cal[0]\n",
    "                    found = True\n",
    "                    break\n",
    "            if not found and part == \"part1\":\n",
    "                self.invalid_in_part1.append(cal)\n",
    "\n",
    "    def use_choice(self, cal_list: list[int], choice: int, goal: int):\n",
    "        temp = cal_list[0]\n",
    "        for i, val in enumerate(choice):\n",
    "            if val == 0:\n",
    "                temp += cal_list[i + 1]\n",
    "            elif val == 1:\n",
    "                temp *= cal_list[i + 1]\n",
    "            else:\n",
    "                temp = int(str(temp) + str(cal_list[i + 1]))\n",
    "            if temp > goal:\n",
    "                break\n",
    "        return temp\n",
    "\n",
    "\n",
    "if __name__ == \"__main__\":\n",
    "    day7 = AdventDay7()\n",
    "    day7.place_operators(\"part1\")\n",
    "    day7.place_operators(\"part2\")\n",
    "    print(day7.part1, day7.part2)"
   ]
  },
  {
   "cell_type": "markdown",
   "metadata": {},
   "source": [
    "# --- Part Two ---\n",
    "\n",
    "The engineers seem concerned; the total calibration result you gave them is nowhere close to being within safety tolerances. Just then, you spot your mistake: some well-hidden elephants are holding a third type of operator.\n",
    "\n",
    "The concatenation operator (||) combines the digits from its left and right inputs into a single number. For example, 12 || 345 would become 12345. All operators are still evaluated left-to-right.\n",
    "\n",
    "Now, apart from the three equations that could be made true using only addition and multiplication, the above example has three more equations that can be made true by inserting operators:\n",
    "- 156: 15 6 can be made true through a single concatenation: 15 || 6 = 156.\n",
    "- 7290: 6 8 6 15 can be made true using 6 * 8 || 6 * 15.\n",
    "- 192: 17 8 14 can be made true using 17 || 8 + 14.\n",
    "\n",
    "Adding up all six test values (the three that could be made before using only + and * plus the new three that can now be made by also using ||) produces the new total calibration result of 11387.\n",
    "\n",
    "Using your new knowledge of elephant hiding spots, determine which equations could possibly be true. What is their total calibration result?"
   ]
  }
 ],
 "metadata": {
  "kernelspec": {
   "display_name": "Python 3",
   "language": "python",
   "name": "python3"
  },
  "language_info": {
   "codemirror_mode": {
    "name": "ipython",
    "version": 3
   },
   "file_extension": ".py",
   "mimetype": "text/x-python",
   "name": "python",
   "nbconvert_exporter": "python",
   "pygments_lexer": "ipython3",
   "version": "3.11.9"
  }
 },
 "nbformat": 4,
 "nbformat_minor": 2
}
